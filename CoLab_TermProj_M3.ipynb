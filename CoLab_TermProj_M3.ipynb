{
  "nbformat": 4,
  "nbformat_minor": 0,
  "metadata": {
    "colab": {
      "name": "CoLab_TermProj_M3.ipynb",
      "provenance": [],
      "collapsed_sections": [],
      "include_colab_link": true
    },
    "kernelspec": {
      "name": "python3",
      "display_name": "Python 3"
    }
  },
  "cells": [
    {
      "cell_type": "markdown",
      "metadata": {
        "id": "view-in-github",
        "colab_type": "text"
      },
      "source": [
        "<a href=\"https://colab.research.google.com/github/Sohyoung/bi1-learning/blob/master/CoLab_TermProj_M3.ipynb\" target=\"_parent\"><img src=\"https://colab.research.google.com/assets/colab-badge.svg\" alt=\"Open In Colab\"/></a>"
      ]
    },
    {
      "cell_type": "markdown",
      "metadata": {
        "id": "_SmTogjeMD47"
      },
      "source": [
        "# 생물정보학 및 실습 1 - Term Project용 Mission 3 환경 셋업\n",
        "\n",
        "```\n",
        "생물정보학 및 실습 1\n",
        "서울대학교 협동과정 생물정보학전공 2021년 1학기\n",
        "\n",
        "이 노트북은 Creative Commons BY-SA 조건으로 재사용 가능합니다.\n",
        "장혜식 <hyeshik@snu.ac.kr>, 서울대학교 생명과학부\n",
        "```\n",
        "\n",
        "이 노트북은 Google Colab을 이용해서 Term Project를 할 수 있도록 환경을 준비해 줍니다. 터미널 사용이 원활하지 않은 상태이고, 데이터를 오랫동안 보관하기 어렵기 때문에 되도록 개인용 컴퓨터에서 [Anaconda](https://www.anaconda.com/)나 [JupyterLab](https://jupyterlab.readthedocs.io/en/stable/) 등을 설치하고 사용하시는 것이 편하지만, 개인용 컴퓨터 사양이 부족한 경우에는 Google CoLab을 사용할 수도 있습니다. 개인용 컴퓨터를 쓸 때는 Windows에서는 [WSL2](https://docs.microsoft.com/en-us/windows/wsl/install-win10)를 쓰시면 리눅스 커맨드라인 환경을 쓸 수 있습니다. Google Colab은 창을 닫은 후 90분 후, 또는 창을 처음 열고 12시간 후에 환경을 닫아버리기 때문에 매번 실습할 때마다 새로 셋업이 필요합니다. `Runtime->Run All`을 실행해서 전체를 한 번 실행하시면 준비됩니다. 모든 것이 잘 안 되고 뭔가 꼬인 느낌이 강하게 들 때는 `Runtime->Factory reset runtime`을 누르고 새로 시작하시면 될 수도 있습니다.\n"
      ]
    },
    {
      "cell_type": "markdown",
      "metadata": {
        "id": "zGYjheLcRJS0"
      },
      "source": [
        "## Google Drive 마운트\n",
        "\n",
        "데이터 파일들을 불러오고 저장하기 위해서 Google Drive를 연결합니다. **이번엔 스크립트 파일을 편집해야 하기 때문에 Google Drive 마운트를 하지 않으면 vim등 콘솔에서 쓸 수 있는 에디터를 쓰셔야 합니다.** 화면에 나오는 주소를 눌러서 인증하고 인증 코드를 그 아래에 입력하세요. 그러면 `/contents/drive/MyDrive`에서 자신의 Drive 최상단 폴더가 보입니다."
      ]
    },
    {
      "cell_type": "code",
      "metadata": {
        "id": "0HgOxANiRHgl",
        "colab": {
          "base_uri": "https://localhost:8080/"
        },
        "outputId": "e84c07b4-e3bd-489f-9e03-66e0159ef3a0"
      },
      "source": [
        "from google.colab import drive\n",
        "drive.mount('/content/drive')"
      ],
      "execution_count": null,
      "outputs": [
        {
          "output_type": "stream",
          "text": [
            "Mounted at /content/drive\n"
          ],
          "name": "stdout"
        }
      ]
    },
    {
      "cell_type": "markdown",
      "metadata": {
        "id": "ra3RB22DWEER"
      },
      "source": [
        "## 실습용 Bioconda 환경 설치하기\n",
        "실습용 프로그램들을 쉽게 설치할 수 있도록 [Bioconda](https://bioconda.github.io/) 환경을 만듭니다. 실행하고 진행상황을 관찰하다가 에러로 보이는 것이 있으면 잘 읽어보고 해결합니다.\n",
        "\n",
        "파이썬 모듈들은 Colab쪽의 파이썬 인터프리터를 바꿀 수 없기 때문에 Conda에 설치하더라도 사용하기 어렵습니다. 파이썬 모듈은 `pip` 명령어로 설치하시면 Colab에서 불러와서 사용할 수 있습니다.\n",
        "\n",
        "환경 초기화에 관련된 스크립트는 [GitHub 프로젝트](https://github.com/hyeshik/colab-biolab)에 있습니다."
      ]
    },
    {
      "cell_type": "code",
      "metadata": {
        "id": "TTXmNi4hcap3",
        "colab": {
          "base_uri": "https://localhost:8080/"
        },
        "outputId": "ceb88d16-5cd3-4fe8-c75f-ba25dabe779e"
      },
      "source": [
        "!git clone https://github.com/hyeshik/colab-biolab.git\n",
        "!cd colab-biolab && bash tools/setup.sh\n",
        "exec(open('colab-biolab/tools/activate_conda.py').read())"
      ],
      "execution_count": 10,
      "outputs": [
        {
          "output_type": "stream",
          "text": [
            "fatal: destination path 'colab-biolab' already exists and is not an empty directory.\n",
            "./\n",
            "./root/\n",
            "./root/.bin.priority/\n",
            "./root/.bin.priority/pip2\n",
            "./root/.bin.priority/pip\n",
            "./root/.bin.priority/pip3\n",
            "./root/.profile\n",
            "./root/.vimrc\n",
            "./root/.bashrc.biolab\n",
            "./root/.condarc\n",
            "./root/.tmux.conf\n",
            "PREFIX=/root/conda\n",
            "Unpacking payload ...\n",
            "Collecting package metadata (current_repodata.json): - \b\b\\ \b\b| \b\b/ \b\b- \b\b\\ \b\b| \b\bdone\n",
            "Solving environment: - \b\b\\ \b\b| \b\b/ \b\bdone\n",
            "\n",
            "# All requested packages already installed.\n",
            "\n",
            "installation finished.\n",
            "WARNING:\n",
            "    You currently have a PYTHONPATH environment variable set. This may cause\n",
            "    unexpected behavior when running the Python interpreter in Miniconda3.\n",
            "    For best results, please verify that your PYTHONPATH only points to\n",
            "    directories of packages that are compatible with the Python interpreter\n",
            "    in Miniconda3: /root/conda\n",
            "Collecting package metadata (current_repodata.json): - \b\b\\ \b\b| \b\b/ \b\b- \b\b\\ \b\b| \b\b/ \b\b- \b\b\\ \b\b| \b\b/ \b\b- \b\b\\ \b\b| \b\b/ \b\b- \b\b\\ \b\b| \b\b/ \b\b- \b\b\\ \b\b| \b\b/ \b\b- \b\b\\ \b\b| \b\bdone\n",
            "Solving environment: - \b\b\\ \b\b| \b\b/ \b\b- \b\b\\ \b\b| \b\b/ \b\b- \b\b\\ \b\b| \b\b/ \b\b- \b\b\\ \b\b| \b\b/ \b\b- \b\b\\ \b\b| \b\b/ \b\b- \b\b\\ \b\b| \b\b/ \b\b- \b\b\\ \b\b| \b\b/ \b\b- \b\b\\ \b\b| \b\b/ \b\b- \b\b\\ \b\b| \b\b/ \b\b- \b\b\\ \b\b| \b\b/ \b\b- \b\b\\ \b\b| \b\b/ \b\b- \b\b\\ \b\b| \b\b/ \b\b- \b\b\\ \b\b| \b\b/ \b\b- \b\b\\ \b\b| \b\b/ \b\b- \b\b\\ \b\b| \b\b/ \b\b- \b\b\\ \b\b| \b\b/ \b\b- \b\b\\ \b\b| \b\b/ \b\b- \b\b\\ \b\b| \b\b/ \b\bdone\n",
            "\n",
            "\n",
            "==> WARNING: A newer version of conda exists. <==\n",
            "  current version: 4.9.2\n",
            "  latest version: 4.10.1\n",
            "\n",
            "Please update conda by running\n",
            "\n",
            "    $ conda update -n base -c defaults conda\n",
            "\n",
            "\n",
            "\n",
            "## Package Plan ##\n",
            "\n",
            "  environment location: /root/conda/envs/lab\n",
            "\n",
            "  added / updated specs:\n",
            "    - bedtools\n",
            "    - biopython\n",
            "    - bwa\n",
            "    - cython\n",
            "    - matplotlib\n",
            "    - numpy\n",
            "    - pandas\n",
            "    - pip\n",
            "    - pysam\n",
            "    - samtools\n",
            "    - scipy\n",
            "    - star\n",
            "\n",
            "\n",
            "The following NEW packages will be INSTALLED:\n",
            "\n",
            "  _libgcc_mutex      conda-forge/linux-64::_libgcc_mutex-0.1-conda_forge\n",
            "  _openmp_mutex      conda-forge/linux-64::_openmp_mutex-4.5-1_gnu\n",
            "  bedtools           bioconda/linux-64::bedtools-2.30.0-h7d7f7ad_1\n",
            "  biopython          conda-forge/linux-64::biopython-1.79-py37h5e8e339_0\n",
            "  bwa                bioconda/linux-64::bwa-0.7.17-h5bf99c6_8\n",
            "  bzip2              conda-forge/linux-64::bzip2-1.0.8-h7f98852_4\n",
            "  c-ares             conda-forge/linux-64::c-ares-1.17.1-h7f98852_1\n",
            "  ca-certificates    conda-forge/linux-64::ca-certificates-2021.5.30-ha878542_0\n",
            "  certifi            conda-forge/linux-64::certifi-2021.5.30-py37h89c1867_0\n",
            "  cycler             conda-forge/noarch::cycler-0.10.0-py_2\n",
            "  cython             conda-forge/linux-64::cython-0.29.23-py37hcd2ae1e_0\n",
            "  dbus               conda-forge/linux-64::dbus-1.13.6-h48d8840_2\n",
            "  expat              conda-forge/linux-64::expat-2.4.1-h9c3ff4c_0\n",
            "  fontconfig         conda-forge/linux-64::fontconfig-2.13.1-hba837de_1005\n",
            "  freetype           conda-forge/linux-64::freetype-2.10.4-h0708190_1\n",
            "  gettext            conda-forge/linux-64::gettext-0.19.8.1-h0b5b191_1005\n",
            "  glib               conda-forge/linux-64::glib-2.68.2-h9c3ff4c_2\n",
            "  glib-tools         conda-forge/linux-64::glib-tools-2.68.2-h9c3ff4c_2\n",
            "  gst-plugins-base   pkgs/main/linux-64::gst-plugins-base-1.14.0-hbbd80ab_1\n",
            "  gstreamer          pkgs/main/linux-64::gstreamer-1.14.0-h28cd5cc_2\n",
            "  htslib             bioconda/linux-64::htslib-1.12-h9093b5e_1\n",
            "  icu                conda-forge/linux-64::icu-58.2-hf484d3e_1000\n",
            "  jbig               conda-forge/linux-64::jbig-2.1-h7f98852_2003\n",
            "  jpeg               conda-forge/linux-64::jpeg-9d-h36c2ea0_0\n",
            "  kiwisolver         conda-forge/linux-64::kiwisolver-1.3.1-py37h2527ec5_1\n",
            "  krb5               conda-forge/linux-64::krb5-1.19.1-hcc1bbae_0\n",
            "  lcms2              conda-forge/linux-64::lcms2-2.12-hddcbb42_0\n",
            "  ld_impl_linux-64   conda-forge/linux-64::ld_impl_linux-64-2.35.1-hea4e1c9_2\n",
            "  lerc               conda-forge/linux-64::lerc-2.2.1-h9c3ff4c_0\n",
            "  libblas            conda-forge/linux-64::libblas-3.9.0-9_openblas\n",
            "  libcblas           conda-forge/linux-64::libcblas-3.9.0-9_openblas\n",
            "  libcurl            conda-forge/linux-64::libcurl-7.77.0-h2574ce0_0\n",
            "  libdeflate         conda-forge/linux-64::libdeflate-1.7-h7f98852_5\n",
            "  libedit            conda-forge/linux-64::libedit-3.1.20191231-he28a2e2_2\n",
            "  libev              conda-forge/linux-64::libev-4.33-h516909a_1\n",
            "  libffi             conda-forge/linux-64::libffi-3.3-h58526e2_2\n",
            "  libgcc-ng          conda-forge/linux-64::libgcc-ng-9.3.0-h2828fa1_19\n",
            "  libgfortran-ng     conda-forge/linux-64::libgfortran-ng-9.3.0-hff62375_19\n",
            "  libgfortran5       conda-forge/linux-64::libgfortran5-9.3.0-hff62375_19\n",
            "  libglib            conda-forge/linux-64::libglib-2.68.2-h3e27bee_2\n",
            "  libgomp            conda-forge/linux-64::libgomp-9.3.0-h2828fa1_19\n",
            "  libiconv           conda-forge/linux-64::libiconv-1.16-h516909a_0\n",
            "  liblapack          conda-forge/linux-64::liblapack-3.9.0-9_openblas\n",
            "  libnghttp2         conda-forge/linux-64::libnghttp2-1.43.0-h812cca2_0\n",
            "  libopenblas        conda-forge/linux-64::libopenblas-0.3.15-pthreads_h8fe5266_1\n",
            "  libpng             conda-forge/linux-64::libpng-1.6.37-h21135ba_2\n",
            "  libssh2            conda-forge/linux-64::libssh2-1.9.0-ha56f1ee_6\n",
            "  libstdcxx-ng       conda-forge/linux-64::libstdcxx-ng-9.3.0-h6de172a_19\n",
            "  libtiff            conda-forge/linux-64::libtiff-4.3.0-hf544144_1\n",
            "  libuuid            conda-forge/linux-64::libuuid-2.32.1-h7f98852_1000\n",
            "  libwebp-base       conda-forge/linux-64::libwebp-base-1.2.0-h7f98852_2\n",
            "  libxcb             conda-forge/linux-64::libxcb-1.13-h7f98852_1003\n",
            "  libxml2            pkgs/main/linux-64::libxml2-2.9.10-hb55368b_3\n",
            "  lz4-c              conda-forge/linux-64::lz4-c-1.9.3-h9c3ff4c_0\n",
            "  matplotlib         conda-forge/linux-64::matplotlib-3.4.2-py37h89c1867_0\n",
            "  matplotlib-base    conda-forge/linux-64::matplotlib-base-3.4.2-py37hdd32ed1_0\n",
            "  ncurses            conda-forge/linux-64::ncurses-6.2-h58526e2_4\n",
            "  numpy              conda-forge/linux-64::numpy-1.20.3-py37h038b26d_1\n",
            "  olefile            conda-forge/noarch::olefile-0.46-pyh9f0ad1d_1\n",
            "  openjpeg           conda-forge/linux-64::openjpeg-2.4.0-hb52868f_1\n",
            "  openssl            conda-forge/linux-64::openssl-1.1.1k-h7f98852_0\n",
            "  pandas             conda-forge/linux-64::pandas-1.2.4-py37h219a48f_0\n",
            "  pcre               conda-forge/linux-64::pcre-8.44-he1b5a44_0\n",
            "  perl               conda-forge/linux-64::perl-5.32.0-h36c2ea0_0\n",
            "  pillow             conda-forge/linux-64::pillow-8.2.0-py37h4600e1f_1\n",
            "  pip                conda-forge/noarch::pip-21.1.2-pyhd8ed1ab_0\n",
            "  pthread-stubs      conda-forge/linux-64::pthread-stubs-0.4-h36c2ea0_1001\n",
            "  pyparsing          conda-forge/noarch::pyparsing-2.4.7-pyh9f0ad1d_0\n",
            "  pyqt               conda-forge/linux-64::pyqt-5.9.2-py37hcca6a23_4\n",
            "  pysam              bioconda/linux-64::pysam-0.16.0.1-py37h45aed0b_3\n",
            "  python             conda-forge/linux-64::python-3.7.10-hffdb5ce_100_cpython\n",
            "  python-dateutil    conda-forge/noarch::python-dateutil-2.8.1-py_0\n",
            "  python_abi         conda-forge/linux-64::python_abi-3.7-1_cp37m\n",
            "  pytz               conda-forge/noarch::pytz-2021.1-pyhd8ed1ab_0\n",
            "  qt                 pkgs/main/linux-64::qt-5.9.7-h5867ecd_1\n",
            "  readline           conda-forge/linux-64::readline-8.1-h46c0cb4_0\n",
            "  samtools           bioconda/linux-64::samtools-1.12-h9aed4be_1\n",
            "  scipy              conda-forge/linux-64::scipy-1.6.3-py37h29e03ee_0\n",
            "  setuptools         conda-forge/linux-64::setuptools-49.6.0-py37h89c1867_3\n",
            "  sip                pkgs/main/linux-64::sip-4.19.8-py37hf484d3e_0\n",
            "  six                conda-forge/noarch::six-1.16.0-pyh6c4a22f_0\n",
            "  sqlite             conda-forge/linux-64::sqlite-3.35.5-h74cdb3f_0\n",
            "  star               bioconda/linux-64::star-2.7.9a-h9ee0642_0\n",
            "  tk                 conda-forge/linux-64::tk-8.6.10-h21135ba_1\n",
            "  tornado            conda-forge/linux-64::tornado-6.1-py37h5e8e339_1\n",
            "  wheel              conda-forge/noarch::wheel-0.36.2-pyhd3deb0d_0\n",
            "  xorg-libxau        conda-forge/linux-64::xorg-libxau-1.0.9-h7f98852_0\n",
            "  xorg-libxdmcp      conda-forge/linux-64::xorg-libxdmcp-1.1.3-h7f98852_0\n",
            "  xz                 conda-forge/linux-64::xz-5.2.5-h516909a_1\n",
            "  zlib               conda-forge/linux-64::zlib-1.2.11-h516909a_1010\n",
            "  zstd               conda-forge/linux-64::zstd-1.5.0-ha95c52a_0\n",
            "\n",
            "\n",
            "Preparing transaction: \\ \b\b| \b\b/ \b\b- \b\b\\ \b\b| \b\b/ \b\b- \b\b\\ \b\b| \b\b/ \b\b- \b\bdone\n",
            "Verifying transaction: | \b\b/ \b\b- \b\b\\ \b\b| \b\b/ \b\b- \b\b\\ \b\b| \b\b/ \b\b- \b\b\\ \b\b| \b\b/ \b\b- \b\b\\ \b\b| \b\b/ \b\b- \b\b\\ \b\b| \b\b/ \b\b- \b\b\\ \b\b| \b\b/ \b\b- \b\b\\ \b\b| \b\b/ \b\b- \b\b\\ \b\b| \b\b/ \b\b- \b\b\\ \b\b| \b\b/ \b\b- \b\b\\ \b\b| \b\b/ \b\b- \b\b\\ \b\b| \b\b/ \b\b- \b\b\\ \b\b| \b\b/ \b\b- \b\b\\ \b\b| \b\b/ \b\b- \b\b\\ \b\b| \b\b/ \b\bdone\n",
            "Executing transaction: \\ \b\b| \b\b/ \b\b- \b\b\\ \b\b| \b\b/ \b\b- \b\b\\ \b\b| \b\b/ \b\b- \b\b\\ \b\b| \b\b/ \b\b- \b\b\\ \b\b| \b\b/ \b\b- \b\b\\ \b\b| \b\b/ \b\b- \b\b\\ \b\b| \b\b/ \b\b- \b\b\\ \b\b| \b\b/ \b\b- \b\b\\ \b\b| \b\b/ \b\b- \b\b\\ \b\b| \b\b/ \b\b- \b\b\\ \b\b| \b\b/ \b\bdone\n",
            "#\n",
            "# To activate this environment, use\n",
            "#\n",
            "#     $ conda activate lab\n",
            "#\n",
            "# To deactivate an active environment, use\n",
            "#\n",
            "#     $ conda deactivate\n",
            "\n",
            "Activated conda environment `lab'!\n"
          ],
          "name": "stdout"
        }
      ]
    },
    {
      "cell_type": "markdown",
      "metadata": {
        "id": "eDfJ0fCzsTTb"
      },
      "source": [
        "설정이 끝났으면, 이제 콘솔을 열어서 터미널로 접속할 수 있는 통로를 열어줍니다."
      ]
    },
    {
      "cell_type": "markdown",
      "metadata": {
        "id": "J2LqGiP_N26s"
      },
      "source": [
        "## Google Drive에 시퀀싱 데이터 다운로드\n",
        "이제 실습 수업에서 필요한 시퀀싱 데이터를 다운로드 받아서 설치합시다. 드라이브 공간만 충분하면 데이터는 계속 저장돼 있기 때문에 한 번만 하시면 됩니다. Colab에서는 작업용 데이터를 Google Drive 폴더 아래의 `binfo-datapack1`에 저장합니다. 실습용 데이터는 `/content/drive/MyDrive/binfo1-datapack1`에 풀리게 됩니다. 첫 번째에는 wget이 접속오류를 내는 경우가 많으니, 접속에러가 발생하면 다시 한 번 실행해 보세요. 1G씩 끊어지지만 자동으로 이어받아집니다."
      ]
    },
    {
      "cell_type": "code",
      "metadata": {
        "id": "kIN484e7NSxR",
        "colab": {
          "base_uri": "https://localhost:8080/"
        },
        "outputId": "58bd96cd-bb33-4948-d47e-7de4c4bece84"
      },
      "source": [
        "!wget -O - --no-check-certificate https://hyeshik.qbio.io/binfo/binfo1-datapack1.tar | tar -C /content/drive/MyDrive -xf -"
      ],
      "execution_count": 12,
      "outputs": [
        {
          "output_type": "stream",
          "text": [
            "--2021-06-04 04:27:03--  https://hyeshik.qbio.io/binfo/binfo1-datapack1.tar\n",
            "Resolving hyeshik.qbio.io (hyeshik.qbio.io)... 147.47.203.129\n",
            "Connecting to hyeshik.qbio.io (hyeshik.qbio.io)|147.47.203.129|:443... connected.\n",
            "WARNING: cannot verify hyeshik.qbio.io's certificate, issued by ‘CN=R3,O=Let's Encrypt,C=US’:\n",
            "  Unable to locally verify the issuer's authority.\n",
            "HTTP request sent, awaiting response... 200 OK\n",
            "Length: 6424668160 (6.0G) [application/octet-stream]\n",
            "Saving to: ‘STDOUT’\n",
            "\n",
            "-                    16%[==>                 ]   1.01G  8.37MB/s    in 2m 21s  \n",
            "\n",
            "2021-06-04 04:29:25 (7.32 MB/s) - Connection closed at byte 1083309781. Retrying.\n",
            "\n",
            "--2021-06-04 04:29:26--  (try: 2)  https://hyeshik.qbio.io/binfo/binfo1-datapack1.tar\n",
            "Connecting to hyeshik.qbio.io (hyeshik.qbio.io)|147.47.203.129|:443... connected.\n",
            "WARNING: cannot verify hyeshik.qbio.io's certificate, issued by ‘CN=R3,O=Let's Encrypt,C=US’:\n",
            "  Unable to locally verify the issuer's authority.\n",
            "HTTP request sent, awaiting response... 206 Partial Content\n",
            "Length: 6424668160 (6.0G), 5341358379 (5.0G) remaining [application/octet-stream]\n",
            "Saving to: ‘STDOUT’\n",
            "\n",
            "-                    33%[+++==>              ]   2.02G  8.70MB/s    in 2m 14s  \n",
            "\n",
            "2021-06-04 04:31:41 (7.70 MB/s) - Connection closed at byte 2164735356. Retrying.\n",
            "\n",
            "--2021-06-04 04:31:43--  (try: 3)  https://hyeshik.qbio.io/binfo/binfo1-datapack1.tar\n",
            "Connecting to hyeshik.qbio.io (hyeshik.qbio.io)|147.47.203.129|:443... connected.\n",
            "WARNING: cannot verify hyeshik.qbio.io's certificate, issued by ‘CN=R3,O=Let's Encrypt,C=US’:\n",
            "  Unable to locally verify the issuer's authority.\n",
            "HTTP request sent, awaiting response... 206 Partial Content\n",
            "Length: 6424668160 (6.0G), 4259932804 (4.0G) remaining [application/octet-stream]\n",
            "Saving to: ‘STDOUT’\n",
            "\n",
            "-                    50%[++++++===>          ]   3.02G  10.9MB/s    in 2m 9s   \n",
            "\n",
            "2021-06-04 04:33:53 (7.97 MB/s) - Connection closed at byte 3246046243. Retrying.\n",
            "\n",
            "--2021-06-04 04:33:56--  (try: 4)  https://hyeshik.qbio.io/binfo/binfo1-datapack1.tar\n",
            "Connecting to hyeshik.qbio.io (hyeshik.qbio.io)|147.47.203.129|:443... connected.\n",
            "WARNING: cannot verify hyeshik.qbio.io's certificate, issued by ‘CN=R3,O=Let's Encrypt,C=US’:\n",
            "  Unable to locally verify the issuer's authority.\n",
            "HTTP request sent, awaiting response... 206 Partial Content\n",
            "Length: 6424668160 (6.0G), 3178621917 (3.0G) remaining [application/octet-stream]\n",
            "Saving to: ‘STDOUT’\n",
            "\n",
            "-                    67%[++++++++++==>       ]   4.03G  8.29MB/s    in 2m 15s  \n",
            "\n",
            "2021-06-04 04:36:11 (7.64 MB/s) - Connection closed at byte 4327897802. Retrying.\n",
            "\n",
            "--2021-06-04 04:36:15--  (try: 5)  https://hyeshik.qbio.io/binfo/binfo1-datapack1.tar\n",
            "Connecting to hyeshik.qbio.io (hyeshik.qbio.io)|147.47.203.129|:443... connected.\n",
            "WARNING: cannot verify hyeshik.qbio.io's certificate, issued by ‘CN=R3,O=Let's Encrypt,C=US’:\n",
            "  Unable to locally verify the issuer's authority.\n",
            "HTTP request sent, awaiting response... 206 Partial Content\n",
            "Length: 6424668160 (6.0G), 2096770358 (2.0G) remaining [application/octet-stream]\n",
            "Saving to: ‘STDOUT’\n",
            "\n",
            "-                    84%[+++++++++++++==>    ]   5.04G  7.12MB/s    in 2m 8s   \n",
            "\n",
            "2021-06-04 04:38:24 (8.10 MB/s) - Connection closed at byte 5411027313. Retrying.\n",
            "\n",
            "--2021-06-04 04:38:29--  (try: 6)  https://hyeshik.qbio.io/binfo/binfo1-datapack1.tar\n",
            "Connecting to hyeshik.qbio.io (hyeshik.qbio.io)|147.47.203.129|:443... connected.\n",
            "Unable to establish SSL connection.\n",
            "tar: Unexpected EOF in archive\n",
            "tar: Unexpected EOF in archive\n",
            "tar: Error is not recoverable: exiting now\n"
          ],
          "name": "stdout"
        }
      ]
    },
    {
      "cell_type": "markdown",
      "metadata": {
        "id": "lnlM-S70C-tY"
      },
      "source": [
        "받은 데이터의 MD5 체크섬을 확인합니다. 한참 걸립니다. 각 파일들의 원래 체크섬은 다음과 같습니다. 한 번 비교해 보세요.\n",
        "\n",
        "```\n",
        "140aaf30bcb9276cc716f8699f04ddd6  CLIP-35L33G.bam\n",
        "f1b3336ed7e2f97d562dcc71641251bd  CLIP-35L33G.bam.bai\n",
        "328883a73d507eafbf5b60bd6b906201  RNA-control.bam\n",
        "02073818e2f398a73c3b76e5169de1ca  RNA-control.bam.bai\n",
        "b09550d09d6c2a4ce27f0226f426fdb1  RNA-siLin28a.bam\n",
        "fef112c727244060ea62d3f2564a07f6  RNA-siLin28a.bam.bai\n",
        "28bbd0c47d725669340c784f1b772c01  RNA-siLuc.bam\n",
        "43590fdc4d81905c0432e0d1cb8cfd5b  RNA-siLuc.bam.bai\n",
        "5c08a9297307bc83259e658c4474f0cc  RPF-siLin28a.bam\n",
        "a1bb3e29be412dfd7fd8d16b1b1acc4c  RPF-siLin28a.bam.bai\n",
        "f2eebf50943024d0116c9cd3e744c707  RPF-siLuc.bam\n",
        "dc24f69e8f571fc8be30f28ce5b84fcd  RPF-siLuc.bam.bai\n",
        "```"
      ]
    },
    {
      "cell_type": "code",
      "metadata": {
        "id": "g8lC_YJRBCPf",
        "colab": {
          "base_uri": "https://localhost:8080/"
        },
        "outputId": "f271bd67-dfc0-4655-d2d4-2fd0205435dc"
      },
      "source": [
        "!md5sum drive/MyDrive/binfo1-datapack1/*"
      ],
      "execution_count": 13,
      "outputs": [
        {
          "output_type": "stream",
          "text": [
            "140aaf30bcb9276cc716f8699f04ddd6  drive/MyDrive/binfo1-datapack1/CLIP-35L33G.bam\n",
            "f1b3336ed7e2f97d562dcc71641251bd  drive/MyDrive/binfo1-datapack1/CLIP-35L33G.bam.bai\n",
            "d08f69746681bfc058e2e76b0116a9c8  drive/MyDrive/binfo1-datapack1/filtered-RPF-siLuc.bam\n",
            "2b5021d2ac3d4830fd963d950a2dc0b8  drive/MyDrive/binfo1-datapack1/fivepcounts-filtered-RPF-siLuc.txt\n",
            "7211785786bc63bf95a5bb678cad71c1  drive/MyDrive/binfo1-datapack1/fivepcounts-RPF-siLuc.bed\n",
            "ed47186ee44654792a8a130c695f3a22  drive/MyDrive/binfo1-datapack1/gencode-exons-containing-startcodon.bed\n",
            "d54d428f5872030c4ffc43058709b896  drive/MyDrive/binfo1-datapack1/gencode.gtf\n",
            "3469e3e3e018302c5488adc052fd1e21  drive/MyDrive/binfo1-datapack1/gencode-plusexon.gtf\n",
            "b1c38579a9e8e0313c1508f02ce0afaf  drive/MyDrive/binfo1-datapack1/gencode-start.gtf\n",
            "f691d94ca9c72e6feedbfe4561dd5b83  drive/MyDrive/binfo1-datapack1/read-counts.txt\n",
            "7c9528c08ed2f1ae6e2de599db1aa8fb  drive/MyDrive/binfo1-datapack1/read-counts.txt.summary\n",
            "328883a73d507eafbf5b60bd6b906201  drive/MyDrive/binfo1-datapack1/RNA-control.bam\n",
            "02073818e2f398a73c3b76e5169de1ca  drive/MyDrive/binfo1-datapack1/RNA-control.bam.bai\n",
            "b09550d09d6c2a4ce27f0226f426fdb1  drive/MyDrive/binfo1-datapack1/RNA-siLin28a.bam\n",
            "fef112c727244060ea62d3f2564a07f6  drive/MyDrive/binfo1-datapack1/RNA-siLin28a.bam.bai\n",
            "28bbd0c47d725669340c784f1b772c01  drive/MyDrive/binfo1-datapack1/RNA-siLuc.bam\n",
            "43590fdc4d81905c0432e0d1cb8cfd5b  drive/MyDrive/binfo1-datapack1/RNA-siLuc.bam.bai\n",
            "5c08a9297307bc83259e658c4474f0cc  drive/MyDrive/binfo1-datapack1/RPF-siLin28a.bam\n",
            "a1bb3e29be412dfd7fd8d16b1b1acc4c  drive/MyDrive/binfo1-datapack1/RPF-siLin28a.bam.bai\n",
            "34fdfd2357bdf220faf9eea0f8abe921  drive/MyDrive/binfo1-datapack1/RPF-siLuc.bam\n",
            "dc24f69e8f571fc8be30f28ce5b84fcd  drive/MyDrive/binfo1-datapack1/RPF-siLuc.bam.bai\n"
          ],
          "name": "stdout"
        }
      ]
    },
    {
      "cell_type": "markdown",
      "metadata": {
        "id": "kiQ5y4dTD27M"
      },
      "source": [
        "그리고, GENCODE Annotation 데이터도 미리 받아서 저장해 둡니다. 에러가 나면 다시 한 번 실행해 봅니다."
      ]
    },
    {
      "cell_type": "code",
      "metadata": {
        "id": "Efdd3x8hDMh4",
        "colab": {
          "base_uri": "https://localhost:8080/"
        },
        "outputId": "6296b1ba-088e-4656-f4f2-8bd7beccd85a"
      },
      "source": [
        "!wget --no-check-certificate -O /content/drive/MyDrive/binfo1-datapack1/gencode.gtf.gz http://ftp.ebi.ac.uk/pub/databases/gencode/Gencode_mouse/release_M27/gencode.vM27.annotation.gtf.gz"
      ],
      "execution_count": 14,
      "outputs": [
        {
          "output_type": "stream",
          "text": [
            "--2021-06-04 05:04:31--  http://ftp.ebi.ac.uk/pub/databases/gencode/Gencode_mouse/release_M27/gencode.vM27.annotation.gtf.gz\n",
            "Resolving ftp.ebi.ac.uk (ftp.ebi.ac.uk)... 193.62.193.138\n",
            "Connecting to ftp.ebi.ac.uk (ftp.ebi.ac.uk)|193.62.193.138|:80... connected.\n",
            "HTTP request sent, awaiting response... 200 OK\n",
            "Length: 28359457 (27M) [application/octet-stream]\n",
            "Saving to: ‘/content/drive/MyDrive/binfo1-datapack1/gencode.gtf.gz’\n",
            "\n",
            "/content/drive/MyDr 100%[===================>]  27.04M   488KB/s    in 58s     \n",
            "\n",
            "2021-06-04 05:05:29 (478 KB/s) - ‘/content/drive/MyDrive/binfo1-datapack1/gencode.gtf.gz’ saved [28359457/28359457]\n",
            "\n"
          ],
          "name": "stdout"
        }
      ]
    },
    {
      "cell_type": "markdown",
      "metadata": {
        "id": "O3rM9ds6EMhB"
      },
      "source": [
        "다루기 쉽도록 Annotation 압축을 풉니다."
      ]
    },
    {
      "cell_type": "code",
      "metadata": {
        "id": "KNyuSM6PEQvX",
        "colab": {
          "base_uri": "https://localhost:8080/"
        },
        "outputId": "a06ab6f4-91c3-45ce-992e-80d37058cab5"
      },
      "source": [
        "!gunzip /content/drive/MyDrive/binfo1-datapack1/gencode.gtf.gz"
      ],
      "execution_count": 15,
      "outputs": [
        {
          "output_type": "stream",
          "text": [
            "gzip: /content/drive/MyDrive/binfo1-datapack1/gencode.gtf already exists; do you wish to overwrite (y or n)? y\n",
            "y\n",
            "y\n"
          ],
          "name": "stdout"
        }
      ]
    },
    {
      "cell_type": "code",
      "metadata": {
        "id": "PVXzIs5FE3Q4",
        "colab": {
          "base_uri": "https://localhost:8080/"
        },
        "outputId": "219df618-cb3b-4183-da1b-962bc4b1312e"
      },
      "source": [
        "!ls -al drive/MyDrive/binfo*"
      ],
      "execution_count": 16,
      "outputs": [
        {
          "output_type": "stream",
          "text": [
            "total 6838988\n",
            "-rw------- 1 root root 1370036258 Jun  4 04:53 CLIP-35L33G.bam\n",
            "-rw------- 1 root root    3118336 Jun  4 04:53 CLIP-35L33G.bam.bai\n",
            "-rw------- 1 root root  578280809 May 25 02:04 filtered-RPF-siLuc.bam\n",
            "-rw------- 1 root root   28109361 May 25 02:12 fivepcounts-filtered-RPF-siLuc.txt\n",
            "-rw------- 1 root root   45957833 May 25 02:08 fivepcounts-RPF-siLuc.bed\n",
            "-rw------- 1 root root     855103 May 25 02:03 gencode-exons-containing-startcodon.bed\n",
            "-rw------- 1 root root  883334756 May  5 14:04 gencode.gtf\n",
            "-rw------- 1 root root   26842797 May 25 02:02 gencode-plusexon.gtf\n",
            "-rw------- 1 root root    1063832 May 25 02:02 gencode-start.gtf\n",
            "-rw------- 1 root root   24065406 May 17 07:06 read-counts.txt\n",
            "-rw------- 1 root root        751 May 17 07:06 read-counts.txt.summary\n",
            "-rw------- 1 root root 1003658801 Jun  4 04:55 RNA-control.bam\n",
            "-rw------- 1 root root    2276104 Jun  4 04:55 RNA-control.bam.bai\n",
            "-rw------- 1 root root 1260991122 Jun  4 04:58 RNA-siLin28a.bam\n",
            "-rw------- 1 root root    2710744 Jun  4 04:58 RNA-siLin28a.bam.bai\n",
            "-rw------- 1 root root  981684502 Jun  4 05:00 RNA-siLuc.bam\n",
            "-rw------- 1 root root    2606104 Jun  4 05:00 RNA-siLuc.bam.bai\n",
            "-rw------- 1 root root  737352902 Jun  4 05:02 RPF-siLin28a.bam\n",
            "-rw------- 1 root root    2482768 Jun  4 05:02 RPF-siLin28a.bam.bai\n",
            "-rw------- 1 root root   45082624 Jun  4 05:02 RPF-siLuc.bam\n",
            "-rw------- 1 root root    2605912 May  6 09:02 RPF-siLuc.bam.bai\n"
          ],
          "name": "stdout"
        }
      ]
    },
    {
      "cell_type": "markdown",
      "metadata": {
        "id": "ecEA1PPQUlIK"
      },
      "source": [
        "실습에 필요한 프로그램들 몇 가지를 추가로 설치합니다."
      ]
    },
    {
      "cell_type": "code",
      "metadata": {
        "id": "neteyWsWEKBy",
        "colab": {
          "base_uri": "https://localhost:8080/"
        },
        "outputId": "b53026fa-aeae-4ea6-d711-f4a1e432f591"
      },
      "source": [
        "!conda install -y bedtools bioawk"
      ],
      "execution_count": 17,
      "outputs": [
        {
          "output_type": "stream",
          "text": [
            "Collecting package metadata (current_repodata.json): - \b\b\\ \b\b| \b\b/ \b\b- \b\b\\ \b\b| \b\b/ \b\b- \b\b\\ \b\b| \b\b/ \b\b- \b\b\\ \b\b| \b\b/ \b\b- \b\b\\ \b\b| \b\b/ \b\b- \b\b\\ \b\b| \b\b/ \b\b- \b\b\\ \b\b| \b\bdone\n",
            "Solving environment: - \b\b\\ \b\b| \b\b/ \b\b- \b\b\\ \b\b| \b\b/ \b\b- \b\b\\ \b\b| \b\b/ \b\b- \b\b\\ \b\b| \b\b/ \b\b- \b\b\\ \b\b| \b\b/ \b\b- \b\b\\ \b\bdone\n",
            "\n",
            "\n",
            "==> WARNING: A newer version of conda exists. <==\n",
            "  current version: 4.9.2\n",
            "  latest version: 4.10.1\n",
            "\n",
            "Please update conda by running\n",
            "\n",
            "    $ conda update -n base -c defaults conda\n",
            "\n",
            "\n",
            "\n",
            "## Package Plan ##\n",
            "\n",
            "  environment location: /root/conda/envs/lab\n",
            "\n",
            "  added / updated specs:\n",
            "    - bedtools\n",
            "    - bioawk\n",
            "\n",
            "\n",
            "The following packages will be downloaded:\n",
            "\n",
            "    package                    |            build\n",
            "    ---------------------------|-----------------\n",
            "    bioawk-1.0                 |       h5bf99c6_6         188 KB  bioconda\n",
            "    ------------------------------------------------------------\n",
            "                                           Total:         188 KB\n",
            "\n",
            "The following NEW packages will be INSTALLED:\n",
            "\n",
            "  bioawk             bioconda/linux-64::bioawk-1.0-h5bf99c6_6\n",
            "\n",
            "\n",
            "\n",
            "Downloading and Extracting Packages\n",
            "bioawk-1.0           | 188 KB    | : 100% 1.0/1 [00:00<00:00,  5.31it/s]                \n",
            "Preparing transaction: / \b\bdone\n",
            "Verifying transaction: \\ \b\bdone\n",
            "Executing transaction: / \b\bdone\n"
          ],
          "name": "stdout"
        }
      ]
    },
    {
      "cell_type": "markdown",
      "metadata": {
        "id": "Oe_54MZrEi4y"
      },
      "source": [
        "## Mission 3\n",
        "\n",
        "이번 미션에서는 Figure S2A 아랫쪽에 표시되는 clustered error 분석 (CIMS; Crosslinking-induced mutation sites)을 합니다. 자외선에 의해서 단백질이 붙어있다가 단백질 분해효소로 단백질을 뜯어내고 남은 자리에서는 reversetranscriptase가 오류를 자주 냅니다. 오류율을 분석해서 단백질이 앉아 있었던 자리를 분석해 봅시다.\n",
        "\n",
        "데이터는 지난 번과 동일하기 때문에 이미 다운로드 받으셨다면 다시 다운로드 받을 필요는 없습니다."
      ]
    },
    {
      "cell_type": "code",
      "metadata": {
        "id": "IANz6DmLUkA6",
        "colab": {
          "base_uri": "https://localhost:8080/"
        },
        "outputId": "7aaf2d3b-38a8-42ca-856b-2a86b640b44f"
      },
      "source": [
        "%cd /content/drive/MyDrive/binfo1-datapack1/"
      ],
      "execution_count": 18,
      "outputs": [
        {
          "output_type": "stream",
          "text": [
            "/content/drive/MyDrive/binfo1-datapack1\n"
          ],
          "name": "stdout"
        }
      ]
    },
    {
      "cell_type": "markdown",
      "metadata": {
        "id": "CMMDdHgyJAB1"
      },
      "source": [
        "Genome 전체로 계산하는 방법은 자원도 꽤 쓰고 시간이 걸리기 때문에 여기서는 유전자 단위로 간략하게 하도록 합시다. 예시로 Mirlet7g를 해 보고, 추가로 Mirlet7f-1과 Mirlet7d도 봐서 비교해 봅시다.\n",
        "\n",
        "논문은 예전 레퍼런스 유전체인 mm9을 쓰고 있기 때문에, 현재 사용되는 레퍼런스 mm39와는 좌표계에 차이가 있습니다. 새로 annotation에서 위치를 찾습니다."
      ]
    },
    {
      "cell_type": "code",
      "metadata": {
        "id": "sumX23OcI_fl",
        "colab": {
          "base_uri": "https://localhost:8080/"
        },
        "outputId": "e7590549-eea9-4768-9ce2-53ef93f6d61d"
      },
      "source": [
        "!grep -i mirlet7g gencode.gtf"
      ],
      "execution_count": 19,
      "outputs": [
        {
          "output_type": "stream",
          "text": [
            "chr9\tENSEMBL\tgene\t106056039\t106056126\t.\t+\t.\tgene_id \"ENSMUSG00000065440.3\"; gene_type \"miRNA\"; gene_name \"Mirlet7g\"; level 3; mgi_id \"MGI:2676800\";\n",
            "chr9\tENSEMBL\ttranscript\t106056039\t106056126\t.\t+\t.\tgene_id \"ENSMUSG00000065440.3\"; transcript_id \"ENSMUST00000083506.3\"; gene_type \"miRNA\"; gene_name \"Mirlet7g\"; transcript_type \"miRNA\"; transcript_name \"Mirlet7g-201\"; level 3; transcript_support_level \"NA\"; mgi_id \"MGI:2676800\"; tag \"basic\";\n",
            "chr9\tENSEMBL\texon\t106056039\t106056126\t.\t+\t.\tgene_id \"ENSMUSG00000065440.3\"; transcript_id \"ENSMUST00000083506.3\"; gene_type \"miRNA\"; gene_name \"Mirlet7g\"; transcript_type \"miRNA\"; transcript_name \"Mirlet7g-201\"; exon_number 1; exon_id \"ENSMUSE00000522665.2\"; level 3; transcript_support_level \"NA\"; mgi_id \"MGI:2676800\"; tag \"basic\";\n"
          ],
          "name": "stdout"
        }
      ]
    },
    {
      "cell_type": "markdown",
      "metadata": {
        "id": "iB_C8P1fJkNE"
      },
      "source": [
        "Splicing 되지 않는 transcript이기 때문에 결과가 단조롭습니다. 해당 좌표 범위로 bam을 솎아냅니다."
      ]
    },
    {
      "cell_type": "code",
      "metadata": {
        "id": "opqsj9vNIL-z",
        "colab": {
          "base_uri": "https://localhost:8080/"
        },
        "outputId": "fff5e55f-9594-4a46-994a-a31024976ba6"
      },
      "source": [
        "!samtools view -b -o CLIP-let7g.bam CLIP-35L33G.bam chr9:106056039-106056126\n",
        "!samtools view CLIP-let7g.bam | wc -l"
      ],
      "execution_count": 20,
      "outputs": [
        {
          "output_type": "stream",
          "text": [
            "163\n"
          ],
          "name": "stdout"
        }
      ]
    },
    {
      "cell_type": "markdown",
      "metadata": {
        "id": "baEtdt6aJ12N"
      },
      "source": [
        "각 자리에 mapping된 read들의 분포를 요약하기 위해 samtools mpileup을 이용합니다. Shannon entropy를 구할 때는 reference를 따로 줄 필요는 없습니다. samtools를 쓰지 않고 직접 read를 분석하면 더욱 더 재미있습니다."
      ]
    },
    {
      "cell_type": "code",
      "metadata": {
        "id": "5_RLXcMpIL8J",
        "colab": {
          "base_uri": "https://localhost:8080/"
        },
        "outputId": "5bb11d68-4e12-403a-c348-c779b44dfa7a"
      },
      "source": [
        "!samtools mpileup CLIP-let7g.bam > CLIP-let7g.pileup\n",
        "!wc -l CLIP-let7g.pileup"
      ],
      "execution_count": 21,
      "outputs": [
        {
          "output_type": "stream",
          "text": [
            "[mpileup] 1 samples in 1 input files\n",
            "68548 CLIP-let7g.pileup\n"
          ],
          "name": "stdout"
        }
      ]
    },
    {
      "cell_type": "markdown",
      "metadata": {
        "id": "Xuzv5lSEKVoG"
      },
      "source": [
        "Mirlet7g는 100bp도 안 되는 짧은 gene인데 `mpileup` 결과는 엄청 길게 나옵니다. 왜 그럴까요? (잘 한 번 생각해 봅시다)"
      ]
    },
    {
      "cell_type": "markdown",
      "metadata": {
        "id": "hpC-bsZEKozF"
      },
      "source": [
        "이제 Mirlet7g의 핵심부분을 살펴봐서 어떻게 하면 좋을지 견적을 내 봅니다."
      ]
    },
    {
      "cell_type": "code",
      "metadata": {
        "id": "1WulVeZqIL5W",
        "colab": {
          "base_uri": "https://localhost:8080/"
        },
        "outputId": "d48202cd-956f-47b6-96c4-9a03c82fc1de"
      },
      "source": [
        "!head CLIP-let7g.pileup"
      ],
      "execution_count": 22,
      "outputs": [
        {
          "output_type": "stream",
          "text": [
            "chr9\t106007092\tN\t9\t^Ga^Ia^Ha^Ia^Ga^Ga^Ha^Ia^Ia\t<IFIGGHII\n",
            "chr9\t106007093\tN\t9\tggggggggg\tAFGIEGDII\n",
            "chr9\t106007094\tN\t9\tccccccccc\tEHHIGAFEH\n",
            "chr9\t106007095\tN\t9\taaaaaaaaa\t?HDIFA>II\n",
            "chr9\t106007096\tN\t9\taaaaaaaaa\tEHHIG@CHH\n",
            "chr9\t106007097\tN\t9\tttttttttt\t=HGEGDFII\n",
            "chr9\t106007098\tN\t9\taaaaaaaaa\t?HHIGDEII\n",
            "chr9\t106007099\tN\t9\tg-2nng-2nng-2nng-2nng-2nng-2nng-2nng-2nng-2nn\t?IEHGEDII\n",
            "chr9\t106007100\tN\t9\t*********\t8IBIBC@EI\n",
            "chr9\t106007101\tN\t9\t*********\t8IBIBC@EI\n"
          ],
          "name": "stdout"
        }
      ]
    },
    {
      "cell_type": "code",
      "metadata": {
        "id": "GUdB31wAIL0K",
        "colab": {
          "base_uri": "https://localhost:8080/"
        },
        "outputId": "249ec920-5eeb-4560-ba86-e92ce9cfab9e"
      },
      "source": [
        "!awk '$2 >= 106056039 && $2 <= 106056126 { print $0; }' CLIP-let7g.pileup > CLIP-let7g-gene.pileup\n",
        "!tail CLIP-let7g-gene.pileup"
      ],
      "execution_count": 23,
      "outputs": [
        {
          "output_type": "stream",
          "text": [
            "chr9\t106056117\tN\t138\t<<<<<<<<<CCCCCCCCCCCCCCCCCCCCCCCCCCCCCCCCCCCCCCCCCCCCCCCCCCCCCCCCCCCCCCCCCCCCCCCCCCCCCCCCCCCCCCCCCCCCCCCCCCCCCCCCCCCCCCCCCCCCCCCCCCCCCCCCC\tBHEIG?DIIHGHII:;HGIIDGGGIIBGEB?>H<GGIIIIDIIGFHIHH9IGG=GGHIDH?DGIBIIHHGGIEIGI8GIDHDG.GGHEDIIDIDGDHIDGIFGHG;DCDDHEE@I?CGG:IHGIBGIHIIDG@DHIGG\n",
            "chr9\t106056118\tN\t139\t<<<<<<<<<CCCCCCCCCCCCCCCCCCCCCCCCCCCCCCCCCCCCCCCCCCCCCCCCCCCCCCCCCCCCCCCCCCCCCCCCCCCCCCCCCCCCCCCCCCCCCCCCCCCCCCCCCCCCCCCCCCCCCCCCCCCCCCCCCC\tBHEIG?DIIHGHII3AHIIIDGGGIIB3EHFBH>GIIIIIIIIIHIIHHAIIGBDGHIDH?GIIGIIHHDIIHIGIGGI=BGG9GIHHHIIGI=IAIIGGIEHGIEBG@DHDE;IBDGG4IGGIGGIIIIGGGDGIH1G\n",
            "chr9\t106056119\tN\t138\t<<<<<<<<<TTTTTTTTTTTTTTTTTTTTTTTTTT$TTTT$TTTTTTTTTTTTTTT$TTTT$TTTTTTT$TTTTTTTTTTTTTTTTTTTTTTTTTTTTTTTTTTTTTTTTTTTTTTTTTTTTTTTTTTTTTTTTTTTTTTTTT\tBHEIG?DIIGEFII:/GIIEDDHDIIF>BH3<HBEGIHIGFIIIBIIBE:HHGD>EGGDH7BIIGGIHHDHIHDEIGEIDHGG;GIHGHHIGD:IGHD:GGEHH?3G87HD</I=DGG=IHHIHBIFII@<HDHHH1G\n",
            "chr9\t106056120\tN\t133\t<<<<<<<<<TTTTTTTTTTTTTTTTTTTTTTTTTTTT$TTTT$TTT$TTTTTTTTTT$TTTTTTTT$TTTTTTTTTTTT$T$TTTTTT$TTTT$TT$TTTTTTTTTTTTTTTTTTT$TTTTTTTTTTTTTTTTTTTTTTTTTTT\tBHEIG?DIIHFBII74BIIIGDIIIIA8DHECHBIIIIIIIIHIIHB?IDGGGFDH?GIIIIHH@GHHGEDDGIEHBEDIHHGIIGI:HBII8DIIHHIBDD;<HDD3HB?@G?HHIIHIIIIIB@HDHDH8G\n",
            "chr9\t106056121\tN\t118\t<<<<<<<<<GGGGGGGGGGGGGGGGGGGG$G$G$G$G$G$G$G$GGGGGG$GG$GGGG$GG$GGGG$G$GGG$GGG$GGG$GGGG$GGGGG$GGGGGGGGG$GGGGGG$GG$GGG$GGG$GGGG$G$GG$GGGGGG$GGGG$G$G$G$G$G$\tBHEIG?DIIB<EDI/7BHHFB<FGHI3?GG>HAIHIFEF@H<<2>D3EE;HBAIIIBH4IHG@DI>G482GGFHID:I9II@BH@>HE8@;<HGI:GGBIDEIBIGIIIE?G@EIH7G\n",
            "chr9\t106056122\tN\t88\t<<<<<<<<<C$C$C$C$C$C$C$C$C$C$C$C$C$CCCCCC$C$C$C$C$C$C$CCC$C$C$C$CC$C$CC$CC$C$C$C$C$C$C$C$C$C$C$C$C$C$CC$C$C$C$C$C$CC$CC$C$CCC$C$C$C$C$CCCCC$CCC$C\tBHEIG?DIIEEGIIC;GIHEGBIIIIB1=FII?FEIGGGHDBIG=HHIIEBHD>EIHIG=I:HGBIIEF?E;DB3HB<GIHIHHEADF\n",
            "chr9\t106056123\tN\t31\t<<<<<<<<<CCCCCCCCCCCCCCCCCCCCCC\tBHEIG?DIIIIII>GIGGIGGD>BIHHHIEH\n",
            "chr9\t106056124\tN\t31\t<<<<<<<<<AAAAAAAAAAAAAAAAAAAAAA\tBHEIG?DIIIIHIGGIGGGIG:9DDBIEGFH\n",
            "chr9\t106056125\tN\t31\t<<<<<<<<<GGGGGGGGGGGGGGGGGGGGGG\tBHEIG?DIIIIIIGGE@GFIGD;GIGIIFHD\n",
            "chr9\t106056126\tN\t30\t<<<<<<<<<GGGGGGGGGGGGGGGGGGGGG\tBHEIG?DIIIIGHGHIGHI>G;GGGIGIHG\n"
          ],
          "name": "stdout"
        }
      ]
    },
    {
      "cell_type": "markdown",
      "metadata": {
        "id": "CNEWC4t_MA__"
      },
      "source": [
        "이제 pandas에 불러와서 분석해 봅니다. R을 쓰시는 분들은 R로 보내서 작업하셔도 됩니다."
      ]
    },
    {
      "cell_type": "code",
      "metadata": {
        "id": "PWq1ItOxILxa",
        "colab": {
          "base_uri": "https://localhost:8080/",
          "height": 202
        },
        "outputId": "9bfbd36b-9703-44a8-d3cf-6316bb54f770"
      },
      "source": [
        "import pandas as pd\n",
        "\n",
        "pileup = pd.read_csv('CLIP-let7g-gene.pileup', sep='\\t', names=['chrom', 'pos', '_ref', 'count', 'basereads', 'quals'])\n",
        "pileup.tail()"
      ],
      "execution_count": 33,
      "outputs": [
        {
          "output_type": "execute_result",
          "data": {
            "text/html": [
              "<div>\n",
              "<style scoped>\n",
              "    .dataframe tbody tr th:only-of-type {\n",
              "        vertical-align: middle;\n",
              "    }\n",
              "\n",
              "    .dataframe tbody tr th {\n",
              "        vertical-align: top;\n",
              "    }\n",
              "\n",
              "    .dataframe thead th {\n",
              "        text-align: right;\n",
              "    }\n",
              "</style>\n",
              "<table border=\"1\" class=\"dataframe\">\n",
              "  <thead>\n",
              "    <tr style=\"text-align: right;\">\n",
              "      <th></th>\n",
              "      <th>chrom</th>\n",
              "      <th>pos</th>\n",
              "      <th>_ref</th>\n",
              "      <th>count</th>\n",
              "      <th>basereads</th>\n",
              "      <th>quals</th>\n",
              "    </tr>\n",
              "  </thead>\n",
              "  <tbody>\n",
              "    <tr>\n",
              "      <th>83</th>\n",
              "      <td>chr9</td>\n",
              "      <td>106056122</td>\n",
              "      <td>N</td>\n",
              "      <td>88</td>\n",
              "      <td>&lt;&lt;&lt;&lt;&lt;&lt;&lt;&lt;&lt;C$C$C$C$C$C$C$C$C$C$C$C$C$CCCCCC$C$C$...</td>\n",
              "      <td>BHEIG?DIIEEGIIC;GIHEGBIIIIB1=FII?FEIGGGHDBIG=H...</td>\n",
              "    </tr>\n",
              "    <tr>\n",
              "      <th>84</th>\n",
              "      <td>chr9</td>\n",
              "      <td>106056123</td>\n",
              "      <td>N</td>\n",
              "      <td>31</td>\n",
              "      <td>&lt;&lt;&lt;&lt;&lt;&lt;&lt;&lt;&lt;CCCCCCCCCCCCCCCCCCCCCC</td>\n",
              "      <td>BHEIG?DIIIIII&gt;GIGGIGGD&gt;BIHHHIEH</td>\n",
              "    </tr>\n",
              "    <tr>\n",
              "      <th>85</th>\n",
              "      <td>chr9</td>\n",
              "      <td>106056124</td>\n",
              "      <td>N</td>\n",
              "      <td>31</td>\n",
              "      <td>&lt;&lt;&lt;&lt;&lt;&lt;&lt;&lt;&lt;AAAAAAAAAAAAAAAAAAAAAA</td>\n",
              "      <td>BHEIG?DIIIIHIGGIGGGIG:9DDBIEGFH</td>\n",
              "    </tr>\n",
              "    <tr>\n",
              "      <th>86</th>\n",
              "      <td>chr9</td>\n",
              "      <td>106056125</td>\n",
              "      <td>N</td>\n",
              "      <td>31</td>\n",
              "      <td>&lt;&lt;&lt;&lt;&lt;&lt;&lt;&lt;&lt;GGGGGGGGGGGGGGGGGGGGGG</td>\n",
              "      <td>BHEIG?DIIIIIIGGE@GFIGD;GIGIIFHD</td>\n",
              "    </tr>\n",
              "    <tr>\n",
              "      <th>87</th>\n",
              "      <td>chr9</td>\n",
              "      <td>106056126</td>\n",
              "      <td>N</td>\n",
              "      <td>30</td>\n",
              "      <td>&lt;&lt;&lt;&lt;&lt;&lt;&lt;&lt;&lt;GGGGGGGGGGGGGGGGGGGGG</td>\n",
              "      <td>BHEIG?DIIIIGHGHIGHI&gt;G;GGGIGIHG</td>\n",
              "    </tr>\n",
              "  </tbody>\n",
              "</table>\n",
              "</div>"
            ],
            "text/plain": [
              "   chrom  ...                                              quals\n",
              "83  chr9  ...  BHEIG?DIIEEGIIC;GIHEGBIIIIB1=FII?FEIGGGHDBIG=H...\n",
              "84  chr9  ...                    BHEIG?DIIIIII>GIGGIGGD>BIHHHIEH\n",
              "85  chr9  ...                    BHEIG?DIIIIHIGGIGGGIG:9DDBIEGFH\n",
              "86  chr9  ...                    BHEIG?DIIIIIIGGE@GFIGD;GIGIIFHD\n",
              "87  chr9  ...                     BHEIG?DIIIIGHGHIGHI>G;GGGIGIHG\n",
              "\n",
              "[5 rows x 6 columns]"
            ]
          },
          "metadata": {
            "tags": []
          },
          "execution_count": 33
        }
      ]
    },
    {
      "cell_type": "markdown",
      "metadata": {
        "id": "DOM-v48vMTQ-"
      },
      "source": [
        "여기서 pileup에서 계산에 사용할 것은 match와 substitution만입니다. 나머지에 해당하는 tag들은 제거합니다.\n",
        "\n",
        "R을 쓰시는 분들은 R로 보내서 작업하셔도 됩니다."
      ]
    },
    {
      "cell_type": "code",
      "metadata": {
        "id": "qm25CsvBILug"
      },
      "source": [
        "import re\n",
        "toremove = re.compile('[<>$*#^]')\n",
        "pileup['matches'] = pileup['basereads'].apply(lambda x: toremove.sub('', x))"
      ],
      "execution_count": 34,
      "outputs": []
    },
    {
      "cell_type": "code",
      "metadata": {
        "id": "uXYF___MILrK",
        "colab": {
          "base_uri": "https://localhost:8080/",
          "height": 415
        },
        "outputId": "c669ee38-53a4-428b-ccce-c34d180deb11"
      },
      "source": [
        "pileup[['chrom', 'pos', 'matches']]"
      ],
      "execution_count": 35,
      "outputs": [
        {
          "output_type": "execute_result",
          "data": {
            "text/html": [
              "<div>\n",
              "<style scoped>\n",
              "    .dataframe tbody tr th:only-of-type {\n",
              "        vertical-align: middle;\n",
              "    }\n",
              "\n",
              "    .dataframe tbody tr th {\n",
              "        vertical-align: top;\n",
              "    }\n",
              "\n",
              "    .dataframe thead th {\n",
              "        text-align: right;\n",
              "    }\n",
              "</style>\n",
              "<table border=\"1\" class=\"dataframe\">\n",
              "  <thead>\n",
              "    <tr style=\"text-align: right;\">\n",
              "      <th></th>\n",
              "      <th>chrom</th>\n",
              "      <th>pos</th>\n",
              "      <th>matches</th>\n",
              "    </tr>\n",
              "  </thead>\n",
              "  <tbody>\n",
              "    <tr>\n",
              "      <th>0</th>\n",
              "      <td>chr9</td>\n",
              "      <td>106056039</td>\n",
              "      <td></td>\n",
              "    </tr>\n",
              "    <tr>\n",
              "      <th>1</th>\n",
              "      <td>chr9</td>\n",
              "      <td>106056040</td>\n",
              "      <td></td>\n",
              "    </tr>\n",
              "    <tr>\n",
              "      <th>2</th>\n",
              "      <td>chr9</td>\n",
              "      <td>106056041</td>\n",
              "      <td></td>\n",
              "    </tr>\n",
              "    <tr>\n",
              "      <th>3</th>\n",
              "      <td>chr9</td>\n",
              "      <td>106056042</td>\n",
              "      <td></td>\n",
              "    </tr>\n",
              "    <tr>\n",
              "      <th>4</th>\n",
              "      <td>chr9</td>\n",
              "      <td>106056043</td>\n",
              "      <td></td>\n",
              "    </tr>\n",
              "    <tr>\n",
              "      <th>...</th>\n",
              "      <td>...</td>\n",
              "      <td>...</td>\n",
              "      <td>...</td>\n",
              "    </tr>\n",
              "    <tr>\n",
              "      <th>83</th>\n",
              "      <td>chr9</td>\n",
              "      <td>106056122</td>\n",
              "      <td>CCCCCCCCCCCCCCCCCCCCCCCCCCCCCCCCCCCCCCCCCCCCCC...</td>\n",
              "    </tr>\n",
              "    <tr>\n",
              "      <th>84</th>\n",
              "      <td>chr9</td>\n",
              "      <td>106056123</td>\n",
              "      <td>CCCCCCCCCCCCCCCCCCCCCC</td>\n",
              "    </tr>\n",
              "    <tr>\n",
              "      <th>85</th>\n",
              "      <td>chr9</td>\n",
              "      <td>106056124</td>\n",
              "      <td>AAAAAAAAAAAAAAAAAAAAAA</td>\n",
              "    </tr>\n",
              "    <tr>\n",
              "      <th>86</th>\n",
              "      <td>chr9</td>\n",
              "      <td>106056125</td>\n",
              "      <td>GGGGGGGGGGGGGGGGGGGGGG</td>\n",
              "    </tr>\n",
              "    <tr>\n",
              "      <th>87</th>\n",
              "      <td>chr9</td>\n",
              "      <td>106056126</td>\n",
              "      <td>GGGGGGGGGGGGGGGGGGGGG</td>\n",
              "    </tr>\n",
              "  </tbody>\n",
              "</table>\n",
              "<p>88 rows × 3 columns</p>\n",
              "</div>"
            ],
            "text/plain": [
              "   chrom        pos                                            matches\n",
              "0   chr9  106056039                                                   \n",
              "1   chr9  106056040                                                   \n",
              "2   chr9  106056041                                                   \n",
              "3   chr9  106056042                                                   \n",
              "4   chr9  106056043                                                   \n",
              "..   ...        ...                                                ...\n",
              "83  chr9  106056122  CCCCCCCCCCCCCCCCCCCCCCCCCCCCCCCCCCCCCCCCCCCCCC...\n",
              "84  chr9  106056123                             CCCCCCCCCCCCCCCCCCCCCC\n",
              "85  chr9  106056124                             AAAAAAAAAAAAAAAAAAAAAA\n",
              "86  chr9  106056125                             GGGGGGGGGGGGGGGGGGGGGG\n",
              "87  chr9  106056126                              GGGGGGGGGGGGGGGGGGGGG\n",
              "\n",
              "[88 rows x 3 columns]"
            ]
          },
          "metadata": {
            "tags": []
          },
          "execution_count": 35
        }
      ]
    },
    {
      "cell_type": "code",
      "metadata": {
        "id": "k55NUm9OILhw",
        "colab": {
          "base_uri": "https://localhost:8080/",
          "height": 36
        },
        "outputId": "a6873abf-75e4-4cf6-eedb-beb844e19471"
      },
      "source": [
        "pileup[pileup['pos'] == 106056094].iloc[0]['matches']"
      ],
      "execution_count": 36,
      "outputs": [
        {
          "output_type": "execute_result",
          "data": {
            "application/vnd.google.colaboratory.intrinsic+json": {
              "type": "string"
            },
            "text/plain": [
              "'GGGGGGAAAAAAAAGGGGGAAAAAAGCCGCAGGATGAGGTGATAAGGGAGGGGTGAAGGGCGGTGAAGGGGAAAAGAGAAAGAAAAATAAAGGGGGAGTGGGAGGAAGAAGAGAATA'"
            ]
          },
          "metadata": {
            "tags": []
          },
          "execution_count": 36
        }
      ]
    },
    {
      "cell_type": "markdown",
      "metadata": {
        "id": "NrgJiS2iRhIn"
      },
      "source": [
        "자 이제 데이터 준비가 대충 끝났습니다. 다음 순서로 진행해 보세요. (1-4번 단계는 R을 쓰시는 분들은 R로 보내서 작업하셔도 됩니다.)\n",
        "\n",
        "1. 각 position별로 base수를 셉니다.\n",
        "1. 각 position별로 Shannon entropy를 계산합니다.\n",
        "1. 계산한 Shannon entropy를 [bedgraph format](https://genome.ucsc.edu/goldenPath/help/bedgraph.html)으로 출력합니다. 말은 복잡해도 실제로는 간단합니다. 4칸짜리를 만드시면 됩니다.\n",
        "1. 결과 파일을 본인의 Google Drive에서 가져옵니다.\n",
        "1. [UCSC Genome Browser](http://genome.ucsc.edu/cgi-bin/hgTracks?db=mm39&lastVirtModeType=default&lastVirtModeExtraState=&virtModeType=default&virtMode=0&nonVirtPosition=&position=chr9%3A106056039-106056126)에 접속해서 Genome은 mm39로 선택합니다.\n",
        "1. 그래프 아랫쪽의 add custom tracks 버튼을 누릅니다.\n",
        "1. Paste URLs or data 옆의 Choose File 버튼을 누르고 우리가 만든 bedgraph 파일을 업로드 합니다.\n",
        "1. 그리고 이리 저리 감상해 보다가 View 메뉴의 PDF/PS 를 눌러서 인증샷을 한 번 찍습니다.\n",
        "1. Mirlet7d와 Mirlet7f-1도 한 번 해 봅니다."
      ]
    },
    {
      "cell_type": "code",
      "metadata": {
        "id": "AHTL_baZRg2y",
        "colab": {
          "base_uri": "https://localhost:8080/",
          "height": 117
        },
        "outputId": "884983d8-d7cc-4963-e0dc-e02887da411c"
      },
      "source": [
        "for base in ['A', 'C', 'G', 'T']:\n",
        "  pileup[base] = pileup.apply(lambda row : row['matches'].count(base), axis = 1)\n",
        "pileup['total'] = pileup.apply(lambda row : len(row['matches']), axis = 1)\n",
        "pileup[pileup['pos'] == 106056094]"
      ],
      "execution_count": 39,
      "outputs": [
        {
          "output_type": "execute_result",
          "data": {
            "text/html": [
              "<div>\n",
              "<style scoped>\n",
              "    .dataframe tbody tr th:only-of-type {\n",
              "        vertical-align: middle;\n",
              "    }\n",
              "\n",
              "    .dataframe tbody tr th {\n",
              "        vertical-align: top;\n",
              "    }\n",
              "\n",
              "    .dataframe thead th {\n",
              "        text-align: right;\n",
              "    }\n",
              "</style>\n",
              "<table border=\"1\" class=\"dataframe\">\n",
              "  <thead>\n",
              "    <tr style=\"text-align: right;\">\n",
              "      <th></th>\n",
              "      <th>chrom</th>\n",
              "      <th>pos</th>\n",
              "      <th>_ref</th>\n",
              "      <th>count</th>\n",
              "      <th>basereads</th>\n",
              "      <th>quals</th>\n",
              "      <th>matches</th>\n",
              "      <th>A</th>\n",
              "      <th>C</th>\n",
              "      <th>G</th>\n",
              "      <th>T</th>\n",
              "      <th>total</th>\n",
              "    </tr>\n",
              "  </thead>\n",
              "  <tbody>\n",
              "    <tr>\n",
              "      <th>55</th>\n",
              "      <td>chr9</td>\n",
              "      <td>106056094</td>\n",
              "      <td>N</td>\n",
              "      <td>126</td>\n",
              "      <td>&lt;&lt;&lt;&lt;&lt;&lt;&lt;&lt;&lt;GGGGGGAAAAAAAAGGGGGAAAAAAGCCGCAGGATGA...</td>\n",
              "      <td>BHEIG?DIIDIEHHCGHGIIEEHIHHGHIIIIG:AGGDH=HHIIII...</td>\n",
              "      <td>GGGGGGAAAAAAAAGGGGGAAAAAAGCCGCAGGATGAGGTGATAAG...</td>\n",
              "      <td>51</td>\n",
              "      <td>4</td>\n",
              "      <td>54</td>\n",
              "      <td>8</td>\n",
              "      <td>117</td>\n",
              "    </tr>\n",
              "  </tbody>\n",
              "</table>\n",
              "</div>"
            ],
            "text/plain": [
              "   chrom        pos _ref  count  ...  C   G  T  total\n",
              "55  chr9  106056094    N    126  ...  4  54  8    117\n",
              "\n",
              "[1 rows x 12 columns]"
            ]
          },
          "metadata": {
            "tags": []
          },
          "execution_count": 39
        }
      ]
    },
    {
      "cell_type": "code",
      "metadata": {
        "colab": {
          "base_uri": "https://localhost:8080/",
          "height": 117
        },
        "id": "NczCnx6fmj7C",
        "outputId": "02c86853-da70-4e7e-d356-e00cf7fe7552"
      },
      "source": [
        "import math\n",
        "\n",
        "def ShannonEntropy(row):\n",
        "  E = 0\n",
        "  if row['total'] != 0:\n",
        "    for base in ['A', 'C', 'G', 'T']:\n",
        "      p = row[base]/row['total']\n",
        "      if p!= 0:\n",
        "        E += -p*math.log(p)\n",
        "  return E\n",
        "\n",
        "pileup['entropy'] = pileup.apply(lambda row : ShannonEntropy(row), axis = 1)\n",
        "pileup['pos_end'] = pileup.apply(lambda row : row['pos']+1, axis = 1)\n",
        "pileup[pileup['pos'] == 106056094]"
      ],
      "execution_count": 57,
      "outputs": [
        {
          "output_type": "execute_result",
          "data": {
            "text/html": [
              "<div>\n",
              "<style scoped>\n",
              "    .dataframe tbody tr th:only-of-type {\n",
              "        vertical-align: middle;\n",
              "    }\n",
              "\n",
              "    .dataframe tbody tr th {\n",
              "        vertical-align: top;\n",
              "    }\n",
              "\n",
              "    .dataframe thead th {\n",
              "        text-align: right;\n",
              "    }\n",
              "</style>\n",
              "<table border=\"1\" class=\"dataframe\">\n",
              "  <thead>\n",
              "    <tr style=\"text-align: right;\">\n",
              "      <th></th>\n",
              "      <th>chrom</th>\n",
              "      <th>pos</th>\n",
              "      <th>_ref</th>\n",
              "      <th>count</th>\n",
              "      <th>basereads</th>\n",
              "      <th>quals</th>\n",
              "      <th>matches</th>\n",
              "      <th>A</th>\n",
              "      <th>C</th>\n",
              "      <th>G</th>\n",
              "      <th>T</th>\n",
              "      <th>total</th>\n",
              "      <th>entropy</th>\n",
              "      <th>pos_end</th>\n",
              "    </tr>\n",
              "  </thead>\n",
              "  <tbody>\n",
              "    <tr>\n",
              "      <th>55</th>\n",
              "      <td>chr9</td>\n",
              "      <td>106056094</td>\n",
              "      <td>N</td>\n",
              "      <td>126</td>\n",
              "      <td>&lt;&lt;&lt;&lt;&lt;&lt;&lt;&lt;&lt;GGGGGGAAAAAAAAGGGGGAAAAAAGCCGCAGGATGA...</td>\n",
              "      <td>BHEIG?DIIDIEHHCGHGIIEEHIHHGHIIIIG:AGGDH=HHIIII...</td>\n",
              "      <td>GGGGGGAAAAAAAAGGGGGAAAAAAGCCGCAGGATGAGGTGATAAG...</td>\n",
              "      <td>51</td>\n",
              "      <td>4</td>\n",
              "      <td>54</td>\n",
              "      <td>8</td>\n",
              "      <td>117</td>\n",
              "      <td>1.017653</td>\n",
              "      <td>106056095</td>\n",
              "    </tr>\n",
              "  </tbody>\n",
              "</table>\n",
              "</div>"
            ],
            "text/plain": [
              "   chrom        pos _ref  count  ...  T total   entropy    pos_end\n",
              "55  chr9  106056094    N    126  ...  8   117  1.017653  106056095\n",
              "\n",
              "[1 rows x 14 columns]"
            ]
          },
          "metadata": {
            "tags": []
          },
          "execution_count": 57
        }
      ]
    },
    {
      "cell_type": "code",
      "metadata": {
        "id": "rTWcMviDqVQI"
      },
      "source": [
        "outfile = open('bedgraph_let7g.txt', 'w')\n",
        "start_pos = min(pileup['pos'])\n",
        "end_pos = max(pileup['pos'])\n",
        "outfile.write('browser position chr9:'+str(start_pos)+'-'+str(end_pos)+'\\nbrowser hide all\\nbrowser pack refGene encodeRegions\\nbrowser full altGraph\\n')\n",
        "outfile.write('track type=bedGraph name=\"BedGraph Format\" description=\"BedGraph format\" visibility=full color=50,50,300 altColor=0,100,200 priority=20\\n')\n",
        "outfile.close()\n",
        "\n",
        "pileup[['chrom', 'pos', 'pos_end', 'entropy']].to_csv('bedgraph_let7g.txt', sep=' ', header=False, index=False, mode='a')"
      ],
      "execution_count": 93,
      "outputs": []
    },
    {
      "cell_type": "markdown",
      "metadata": {
        "id": "IE58hn_L6tVP"
      },
      "source": [
        "Mirlet7d"
      ]
    },
    {
      "cell_type": "code",
      "metadata": {
        "colab": {
          "base_uri": "https://localhost:8080/"
        },
        "id": "zJGcYbM46yig",
        "outputId": "bf30a729-9cb2-42f0-8783-eed9bfe43114"
      },
      "source": [
        "!grep -i mirlet7d gencode.gtf"
      ],
      "execution_count": 80,
      "outputs": [
        {
          "output_type": "stream",
          "text": [
            "chr13\tENSEMBL\tgene\t48689488\t48689590\t.\t-\t.\tgene_id \"ENSMUSG00000065453.3\"; gene_type \"miRNA\"; gene_name \"Mirlet7d\"; level 3; mgi_id \"MGI:2676796\";\n",
            "chr13\tENSEMBL\ttranscript\t48689488\t48689590\t.\t-\t.\tgene_id \"ENSMUSG00000065453.3\"; transcript_id \"ENSMUST00000083519.3\"; gene_type \"miRNA\"; gene_name \"Mirlet7d\"; transcript_type \"miRNA\"; transcript_name \"Mirlet7d-201\"; level 3; transcript_support_level \"NA\"; mgi_id \"MGI:2676796\"; tag \"basic\";\n",
            "chr13\tENSEMBL\texon\t48689488\t48689590\t.\t-\t.\tgene_id \"ENSMUSG00000065453.3\"; transcript_id \"ENSMUST00000083519.3\"; gene_type \"miRNA\"; gene_name \"Mirlet7d\"; transcript_type \"miRNA\"; transcript_name \"Mirlet7d-201\"; exon_number 1; exon_id \"ENSMUSE00000522678.2\"; level 3; transcript_support_level \"NA\"; mgi_id \"MGI:2676796\"; tag \"basic\";\n"
          ],
          "name": "stdout"
        }
      ]
    },
    {
      "cell_type": "code",
      "metadata": {
        "colab": {
          "base_uri": "https://localhost:8080/"
        },
        "id": "mPsYgKKv7A3y",
        "outputId": "95666b5b-ab71-4397-ffd1-c5af33e06a84"
      },
      "source": [
        "!samtools view -b -o CLIP-let7d.bam CLIP-35L33G.bam chr13:48689488-48689590\n",
        "!samtools mpileup CLIP-let7d.bam > CLIP-let7d.pileup\n",
        "!awk '$2 >= 48689488 && $2 <= 48689590 { print $0; }' CLIP-let7d.pileup > CLIP-let7d-gene.pileup"
      ],
      "execution_count": 86,
      "outputs": [
        {
          "output_type": "stream",
          "text": [
            "[mpileup] 1 samples in 1 input files\n"
          ],
          "name": "stdout"
        }
      ]
    },
    {
      "cell_type": "code",
      "metadata": {
        "id": "BVgxDQDr7_kg"
      },
      "source": [
        "pileup_7d = pd.read_csv('CLIP-let7d-gene.pileup', sep='\\t', names=['chrom', 'pos', '_ref', 'count', 'basereads', 'quals'])\n",
        "toremove = re.compile('[<>$*#^]')\n",
        "pileup_7d['matches'] = pileup_7d['basereads'].apply(lambda x: toremove.sub('', x))\n",
        "pileup_7d.head()\n",
        "\n",
        "for base in ['A', 'C', 'G', 'T']:\n",
        "  pileup_7d[base] = pileup_7d.apply(lambda row : row['matches'].count(base), axis = 1)\n",
        "pileup_7d['total'] = pileup_7d.apply(lambda row : len(row['matches']), axis = 1)\n",
        "\n",
        "pileup_7d['entropy'] = pileup_7d.apply(lambda row : ShannonEntropy(row), axis = 1)\n",
        "pileup_7d['pos_end'] = pileup_7d.apply(lambda row : row['pos']+1, axis = 1)\n",
        "\n",
        "outfile = open('bedgraph_let7d.txt', 'w')\n",
        "start_pos = min(pileup_7d['pos'])\n",
        "end_pos = max(pileup_7d['pos'])\n",
        "outfile.write('browser position chr13:'+str(start_pos)+'-'+str(end_pos)+'\\nbrowser hide all\\nbrowser pack refGene encodeRegions\\nbrowser full altGraph\\n')\n",
        "outfile.write('track type=bedGraph name=\"BedGraph Format\" description=\"BedGraph format\" visibility=full color=50,50,300 altColor=0,100,200 priority=20\\n')\n",
        "outfile.close()\n",
        "\n",
        "pileup_7d[['chrom', 'pos', 'pos_end', 'entropy']].to_csv('bedgraph_let7d.txt', sep=' ', header=False, index=False, mode='a')"
      ],
      "execution_count": 96,
      "outputs": []
    },
    {
      "cell_type": "markdown",
      "metadata": {
        "id": "JA83KMXr-YpC"
      },
      "source": [
        " Mirlet7f-1"
      ]
    },
    {
      "cell_type": "code",
      "metadata": {
        "colab": {
          "base_uri": "https://localhost:8080/"
        },
        "id": "Y4bIv63S-aHA",
        "outputId": "21eee0f3-bf87-4d21-894f-3dd592060e97"
      },
      "source": [
        "!grep -i mirlet7f-1 gencode.gtf"
      ],
      "execution_count": 98,
      "outputs": [
        {
          "output_type": "stream",
          "text": [
            "chr13\tENSEMBL\tgene\t48691305\t48691393\t.\t-\t.\tgene_id \"ENSMUSG00000105621.3\"; gene_type \"miRNA\"; gene_name \"Mirlet7f-1\"; level 3; mgi_id \"MGI:2676798\";\n",
            "chr13\tENSEMBL\ttranscript\t48691305\t48691393\t.\t-\t.\tgene_id \"ENSMUSG00000105621.3\"; transcript_id \"ENSMUST00000198652.3\"; gene_type \"miRNA\"; gene_name \"Mirlet7f-1\"; transcript_type \"miRNA\"; transcript_name \"Mirlet7f-1-201\"; level 3; transcript_support_level \"NA\"; mgi_id \"MGI:2676798\"; tag \"basic\";\n",
            "chr13\tENSEMBL\texon\t48691305\t48691393\t.\t-\t.\tgene_id \"ENSMUSG00000105621.3\"; transcript_id \"ENSMUST00000198652.3\"; gene_type \"miRNA\"; gene_name \"Mirlet7f-1\"; transcript_type \"miRNA\"; transcript_name \"Mirlet7f-1-201\"; exon_number 1; exon_id \"ENSMUSE00001348852.2\"; level 3; transcript_support_level \"NA\"; mgi_id \"MGI:2676798\"; tag \"basic\";\n"
          ],
          "name": "stdout"
        }
      ]
    },
    {
      "cell_type": "code",
      "metadata": {
        "colab": {
          "base_uri": "https://localhost:8080/"
        },
        "id": "l-6tEA-5-hb8",
        "outputId": "9ff701e1-741d-416a-b1b1-30804c404683"
      },
      "source": [
        "!samtools view -b -o CLIP-let7f-1.bam CLIP-35L33G.bam chr13:48691305-48691393\n",
        "!samtools mpileup CLIP-let7f-1.bam > CLIP-let7f-1.pileup\n",
        "!awk '$2 >= 48691305 && $2 <= 48691393 { print $0; }' CLIP-let7f-1.pileup > CLIP-let7f-1-gene.pileup\n",
        "\n",
        "pileup_7f1 = pd.read_csv('CLIP-let7f-1-gene.pileup', sep='\\t', names=['chrom', 'pos', '_ref', 'count', 'basereads', 'quals'])\n",
        "toremove = re.compile('[<>$*#^]')\n",
        "pileup_7f1['matches'] = pileup_7f1['basereads'].apply(lambda x: toremove.sub('', x))\n",
        "pileup_7f1.head()\n",
        "\n",
        "for base in ['A', 'C', 'G', 'T']:\n",
        "  pileup_7f1[base] = pileup_7f1.apply(lambda row : row['matches'].count(base), axis = 1)\n",
        "pileup_7f1['total'] = pileup_7f1.apply(lambda row : len(row['matches']), axis = 1)\n",
        "\n",
        "pileup_7f1['entropy'] = pileup_7f1.apply(lambda row : ShannonEntropy(row), axis = 1)\n",
        "pileup_7f1['pos_end'] = pileup_7f1.apply(lambda row : row['pos']+1, axis = 1)\n",
        "\n",
        "outfile = open('bedgraph_let7f-1.txt', 'w')\n",
        "start_pos = min(pileup_7f1['pos'])\n",
        "end_pos = max(pileup_7f1['pos'])\n",
        "outfile.write('browser position chr13:'+str(start_pos)+'-'+str(end_pos)+'\\nbrowser hide all\\nbrowser pack refGene encodeRegions\\nbrowser full altGraph\\n')\n",
        "outfile.write('track type=bedGraph name=\"BedGraph Format\" description=\"BedGraph format\" visibility=full color=50,50,300 altColor=0,100,200 priority=20\\n')\n",
        "outfile.close()\n",
        "\n",
        "pileup_7f1[['chrom', 'pos', 'pos_end', 'entropy']].to_csv('bedgraph_let7f-1.txt', sep=' ', header=False, index=False, mode='a')"
      ],
      "execution_count": 103,
      "outputs": [
        {
          "output_type": "stream",
          "text": [
            "[mpileup] 1 samples in 1 input files\n"
          ],
          "name": "stdout"
        }
      ]
    }
  ]
}